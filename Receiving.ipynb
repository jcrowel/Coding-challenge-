{
 "cells": [
  {
   "cell_type": "code",
   "execution_count": null,
   "metadata": {},
   "outputs": [],
   "source": [
    "import zmq\n",
    "import telemetry_pb2\n",
    "\n",
    "context = zmq.Context()\n",
    "poller = zmq.Poller()\n",
    "\n",
    "ports = [5556, 5557, 5558, 5559, 5560]  \n",
    "sockets = []\n",
    "\n",
    "# Set up a socket for each port\n",
    "for port in ports:\n",
    "    sock = context.socket(zmq.PULL)\n",
    "    sock.connect(f\"tcp://127.0.0.1:{port}\")\n",
    "    poller.register(sock, zmq.POLLIN)\n",
    "    sockets.append((sock, port))\n",
    "#making sure we are connected\n",
    "print(f\"Listening on ports {ports}...\")\n",
    "while True:\n",
    "    try:\n",
    "        events = dict(poller.poll())\n",
    "\n",
    "        for sock, port in sockets:\n",
    "            if sock in events:\n",
    "                msg_bytes = sock.recv()\n",
    "                msg = telemetry_pb2.TelemetryData()\n",
    "                msg.ParseFromString(msg_bytes)\n",
    "                print(f\" Received from port {port}: timestamp={msg.unix_timestamp}, lat={msg.latitude}\")\n",
    "\n",
    "    except KeyboardInterrupt:\n",
    "        print(\"\\n Receiver stopped.\")\n",
    "        break"
   ]
  },
  {
   "cell_type": "code",
   "execution_count": null,
   "metadata": {},
   "outputs": [],
   "source": []
  }
 ],
 "metadata": {
  "kernelspec": {
   "display_name": "Python 3",
   "language": "python",
   "name": "python3"
  },
  "language_info": {
   "codemirror_mode": {
    "name": "ipython",
    "version": 3
   },
   "file_extension": ".py",
   "mimetype": "text/x-python",
   "name": "python",
   "nbconvert_exporter": "python",
   "pygments_lexer": "ipython3",
   "version": "3.8.5"
  }
 },
 "nbformat": 4,
 "nbformat_minor": 4
}
